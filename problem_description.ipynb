{
 "cells": [
  {
   "cell_type": "markdown",
   "metadata": {},
   "source": [
    "## <b style=\"color:Green;\"> Problem Description </b>\n"
   ]
  },
  {
   "cell_type": "markdown",
   "metadata": {},
   "source": [
    "Problem : Typical node classification problem. We have a large social network of GitHub developers named musae-github (https://snap.stanford.edu/data/github\u0002social.html) "
   ]
  },
  {
   "cell_type": "markdown",
   "metadata": {},
   "source": [
    "* Nodes represent developers (platform users) who have starred at least 10 repositories \n",
    "* edges are mutual follower relationships between them (note that word mutual indicates undirected relationship).\n",
    "* The node features are extracted based on the location, repositories starred, employer and e-mail address\n",
    "* Our task is to predict whether the GitHub user is a web or a machine learning developer"
   ]
  },
  {
   "cell_type": "markdown",
   "metadata": {},
   "source": [
    "<table>\n",
    "  <tr>\n",
    "    <th>Dataset</th>\n",
    "    <th>Directed</th>\n",
    "    <th>Node features</th>\n",
    "    <th>Edge features</th>\n",
    "    <th>Node labels</th>\n",
    "    <th>Temporal</th>\n",
    "    <th>Nodes</th>\n",
    "    <th>Edges</th>\n",
    "  </tr>\n",
    "  <tr>\n",
    "    <td>Dataset statistics</td>\n",
    "    <td>No</td>\n",
    "    <td>Yes</td>\n",
    "    <td>No</td>\n",
    "    <td>Yes. Binary-labeled.</td>\n",
    "    <td>No</td>\n",
    "    <td>37,700</td>\n",
    "    <td>289,003</td>\n",
    "  </tr>\n",
    "</table>\n"
   ]
  },
  {
   "cell_type": "markdown",
   "metadata": {},
   "source": [
    "### <b> Data description </b>"
   ]
  },
  {
   "cell_type": "markdown",
   "metadata": {},
   "source": [
    "<write about each of the files>\n",
    "* data/musae_git_edges.csv : <br>\n",
    "* data/musae_git_features.json : <br>\n",
    "* data/musae_git_target.csv : <br>\n",
    "* selected_nodes.pkl : selected nodes to train the model from preprocessing 1 technique "
   ]
  }
 ],
 "metadata": {
  "language_info": {
   "name": "python"
  }
 },
 "nbformat": 4,
 "nbformat_minor": 2
}
