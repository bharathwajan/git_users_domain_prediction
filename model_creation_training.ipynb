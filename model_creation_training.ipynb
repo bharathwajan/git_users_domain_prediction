{
 "cells": [
  {
   "cell_type": "markdown",
   "metadata": {},
   "source": [
    "### <b> Importing Libraries </b>"
   ]
  },
  {
   "cell_type": "code",
   "execution_count": 180,
   "metadata": {},
   "outputs": [],
   "source": [
    "import pickle\n",
    "from torch_geometric.data import DataLoader\n",
    "import torch_geometric\n",
    "import torch.nn as nn\n",
    "import torch\n",
    "import random"
   ]
  },
  {
   "cell_type": "markdown",
   "metadata": {},
   "source": [
    "### <b>Graph Datasets</b>"
   ]
  },
  {
   "cell_type": "code",
   "execution_count": 181,
   "metadata": {},
   "outputs": [],
   "source": [
    "graphs=pickle.load(open(\"data/graphs.pkl\",\"rb\"))"
   ]
  },
  {
   "cell_type": "code",
   "execution_count": 182,
   "metadata": {},
   "outputs": [
    {
     "name": "stderr",
     "output_type": "stream",
     "text": [
      "C:\\Users\\rbw19\\AppData\\Local\\Temp\\ipykernel_30184\\3907160027.py:5: DeprecationWarning: Sampling from a set deprecated\n",
      "since Python 3.9 and will be removed in a subsequent version.\n",
      "  test_class_0 = set(random.sample(set(range(number_range)) - set(val_class_0), set_size))\n",
      "C:\\Users\\rbw19\\AppData\\Local\\Temp\\ipykernel_30184\\3907160027.py:8: DeprecationWarning: Sampling from a set deprecated\n",
      "since Python 3.9 and will be removed in a subsequent version.\n",
      "  test_class_1 = set(random.sample(set(range(672,len(graphs))) - set(val_class_1), set_size))\n"
     ]
    },
    {
     "data": {
      "text/plain": [
       "(67, 67, 67, 67, 1078)"
      ]
     },
     "execution_count": 182,
     "metadata": {},
     "output_type": "execute_result"
    }
   ],
   "source": [
    "number_range = 671 # 0 to 671 inclusive\n",
    "set_size = 67\n",
    "\n",
    "val_class_0 = set(random.sample(range(number_range), set_size))\n",
    "test_class_0 = set(random.sample(set(range(number_range)) - set(val_class_0), set_size))\n",
    "\n",
    "val_class_1 = set(random.sample(range(672,len(graphs)), set_size))\n",
    "test_class_1 = set(random.sample(set(range(672,len(graphs))) - set(val_class_1), set_size))\n",
    "\n",
    "\n",
    "result_pipe = val_class_0 | val_class_1 | test_class_0 | test_class_1\n",
    "train_set=set(range(len(graphs)))-result_pipe\n",
    "\n",
    "len(val_class_0),len(val_class_1),len(test_class_0),len(test_class_1),len(train_set)"
   ]
  },
  {
   "cell_type": "code",
   "execution_count": 207,
   "metadata": {},
   "outputs": [
    {
     "data": {
      "text/plain": [
       "set()"
      ]
     },
     "execution_count": 207,
     "metadata": {},
     "output_type": "execute_result"
    }
   ],
   "source": [
    "validation=val_class_0.union(val_class_1)\n",
    "test=test_class_0.union(test_class_1)\n",
    "set.intersection(validation,test,train_set)"
   ]
  },
  {
   "cell_type": "markdown",
   "metadata": {},
   "source": [
    "If there is no intersection then there is no intersection between train,test and validatio"
   ]
  },
  {
   "cell_type": "code",
   "execution_count": 209,
   "metadata": {},
   "outputs": [],
   "source": [
    "val_data=[graphs[i] for i in val_class_0]+[graphs[i] for i in val_class_1]\n",
    "test_data=[graphs[i] for i in test_class_0]+[graphs[i] for i in test_class_1]\n",
    "train_data=[graphs[i] for i in train_set]"
   ]
  },
  {
   "cell_type": "code",
   "execution_count": 210,
   "metadata": {},
   "outputs": [
    {
     "name": "stderr",
     "output_type": "stream",
     "text": [
      "c:\\Users\\rbw19\\OneDrive\\Desktop\\GNN_guide\\graph_venv\\lib\\site-packages\\torch_geometric\\deprecation.py:22: UserWarning: 'data.DataLoader' is deprecated, use 'loader.DataLoader' instead\n",
      "  warnings.warn(out)\n"
     ]
    }
   ],
   "source": [
    "train_dataset = DataLoader(train_data, batch_size=10, shuffle=True) # splitting with the batch size of 2\n",
    "val_dataset= DataLoader(val_data, shuffle=True) \n",
    "test_dataset=DataLoader(test_data, shuffle=True)"
   ]
  },
  {
   "cell_type": "code",
   "execution_count": 219,
   "metadata": {},
   "outputs": [
    {
     "name": "stdout",
     "output_type": "stream",
     "text": [
      "Number of True values: 1  \n",
      " No of false values : 9 \n",
      " Accuracy : 0.1111111111111111\n"
     ]
    }
   ],
   "source": [
    "import torch\n",
    "\n",
    "# Assuming you have a tensor like the one you provided\n",
    "tensor = torch.tensor([[False], [False], [True], [False], [False], [False], [False], [False], [False], [False]])\n",
    "\n",
    "# Count the number of True values\n",
    "count_true = tensor.sum().item()\n",
    "\n",
    "print(f\"Number of True values: {count_true}\",\" \\n No of false values :\",len(tensor)-count_true ,\"\\n Accuracy :\",count_true/(len(tensor)-count_true))\n"
   ]
  },
  {
   "cell_type": "markdown",
   "metadata": {},
   "source": [
    "### <b> Model creation and trainning</b>"
   ]
  },
  {
   "cell_type": "code",
   "execution_count": 237,
   "metadata": {},
   "outputs": [
    {
     "name": "stdout",
     "output_type": "stream",
     "text": [
      "940 1309\n",
      "Epoch 1/50, Loss: 0.6931472420692444, Validation Accuracy: 0.7181054239877769\n",
      "940 1309\n",
      "Epoch 2/50, Loss: 0.6931471824645996, Validation Accuracy: 0.7181054239877769\n",
      "940 1309\n",
      "Epoch 3/50, Loss: 0.6931471824645996, Validation Accuracy: 0.7181054239877769\n",
      "940 1309\n",
      "Epoch 4/50, Loss: 0.6931472420692444, Validation Accuracy: 0.7181054239877769\n",
      "940 1309\n",
      "Epoch 5/50, Loss: 0.6931472420692444, Validation Accuracy: 0.7181054239877769\n",
      "940 1309\n",
      "Epoch 6/50, Loss: 0.6931471824645996, Validation Accuracy: 0.7181054239877769\n",
      "940 1309\n",
      "Epoch 7/50, Loss: 0.6931471228599548, Validation Accuracy: 0.7181054239877769\n",
      "940 1309\n",
      "Epoch 8/50, Loss: 0.6931472420692444, Validation Accuracy: 0.7181054239877769\n",
      "940 1309\n",
      "Epoch 9/50, Loss: 0.6931472420692444, Validation Accuracy: 0.7181054239877769\n",
      "940 1309\n",
      "Epoch 10/50, Loss: 0.6931472420692444, Validation Accuracy: 0.7181054239877769\n",
      "940 1309\n",
      "Epoch 11/50, Loss: 0.6931471228599548, Validation Accuracy: 0.7181054239877769\n",
      "940 1309\n",
      "Epoch 12/50, Loss: 0.6931471824645996, Validation Accuracy: 0.7181054239877769\n",
      "940 1309\n",
      "Epoch 13/50, Loss: 0.6931472420692444, Validation Accuracy: 0.7181054239877769\n",
      "940 1309\n",
      "Epoch 14/50, Loss: 0.6931471228599548, Validation Accuracy: 0.7181054239877769\n",
      "940 1309\n",
      "Epoch 15/50, Loss: 0.6931472420692444, Validation Accuracy: 0.7181054239877769\n",
      "940 1309\n",
      "Epoch 16/50, Loss: 0.6931471824645996, Validation Accuracy: 0.7181054239877769\n",
      "940 1309\n",
      "Epoch 17/50, Loss: 0.6931472420692444, Validation Accuracy: 0.7181054239877769\n",
      "940 1309\n",
      "Epoch 18/50, Loss: 0.6931472420692444, Validation Accuracy: 0.7181054239877769\n",
      "940 1309\n",
      "Epoch 19/50, Loss: 0.6931472420692444, Validation Accuracy: 0.7181054239877769\n",
      "940 1309\n",
      "Epoch 20/50, Loss: 0.6931472420692444, Validation Accuracy: 0.7181054239877769\n",
      "940 1309\n",
      "Epoch 21/50, Loss: 0.6931471824645996, Validation Accuracy: 0.7181054239877769\n",
      "940 1309\n",
      "Epoch 22/50, Loss: 0.6931471824645996, Validation Accuracy: 0.7181054239877769\n",
      "940 1309\n",
      "Epoch 23/50, Loss: 0.6931472420692444, Validation Accuracy: 0.7181054239877769\n",
      "940 1309\n",
      "Epoch 24/50, Loss: 0.6931472420692444, Validation Accuracy: 0.7181054239877769\n",
      "940 1309\n",
      "Epoch 25/50, Loss: 0.6931472420692444, Validation Accuracy: 0.7181054239877769\n",
      "940 1309\n",
      "Epoch 26/50, Loss: 0.6931472420692444, Validation Accuracy: 0.7181054239877769\n",
      "940 1309\n",
      "Epoch 27/50, Loss: 0.6931471228599548, Validation Accuracy: 0.7181054239877769\n",
      "940 1309\n",
      "Epoch 28/50, Loss: 0.6931472420692444, Validation Accuracy: 0.7181054239877769\n",
      "940 1309\n",
      "Epoch 29/50, Loss: 0.6931471824645996, Validation Accuracy: 0.7181054239877769\n",
      "940 1309\n",
      "Epoch 30/50, Loss: 0.6931472420692444, Validation Accuracy: 0.7181054239877769\n",
      "940 1309\n",
      "Epoch 31/50, Loss: 0.6931471824645996, Validation Accuracy: 0.7181054239877769\n",
      "940 1309\n",
      "Epoch 32/50, Loss: 0.6931472420692444, Validation Accuracy: 0.7181054239877769\n",
      "940 1309\n",
      "Epoch 33/50, Loss: 0.6931472420692444, Validation Accuracy: 0.7181054239877769\n",
      "940 1309\n",
      "Epoch 34/50, Loss: 0.6931471228599548, Validation Accuracy: 0.7181054239877769\n",
      "940 1309\n",
      "Epoch 35/50, Loss: 0.6931471228599548, Validation Accuracy: 0.7181054239877769\n",
      "940 1309\n",
      "Epoch 36/50, Loss: 0.6931472420692444, Validation Accuracy: 0.7181054239877769\n",
      "940 1309\n",
      "Epoch 37/50, Loss: 0.6931472420692444, Validation Accuracy: 0.7181054239877769\n",
      "940 1309\n",
      "Epoch 38/50, Loss: 0.6931472420692444, Validation Accuracy: 0.7181054239877769\n",
      "940 1309\n",
      "Epoch 39/50, Loss: 0.6931472420692444, Validation Accuracy: 0.7181054239877769\n",
      "940 1309\n",
      "Epoch 40/50, Loss: 0.6931472420692444, Validation Accuracy: 0.7181054239877769\n",
      "940 1309\n",
      "Epoch 41/50, Loss: 0.6931471824645996, Validation Accuracy: 0.7181054239877769\n",
      "940 1309\n",
      "Epoch 42/50, Loss: 0.6931472420692444, Validation Accuracy: 0.7181054239877769\n",
      "940 1309\n",
      "Epoch 43/50, Loss: 0.6931471824645996, Validation Accuracy: 0.7181054239877769\n",
      "940 1309\n",
      "Epoch 44/50, Loss: 0.6931472420692444, Validation Accuracy: 0.7181054239877769\n",
      "940 1309\n",
      "Epoch 45/50, Loss: 0.6931472420692444, Validation Accuracy: 0.7181054239877769\n",
      "940 1309\n",
      "Epoch 46/50, Loss: 0.6931472420692444, Validation Accuracy: 0.7181054239877769\n",
      "940 1309\n",
      "Epoch 47/50, Loss: 0.6931472420692444, Validation Accuracy: 0.7181054239877769\n",
      "940 1309\n",
      "Epoch 48/50, Loss: 0.6931471228599548, Validation Accuracy: 0.7181054239877769\n",
      "940 1309\n",
      "Epoch 49/50, Loss: 0.6931472420692444, Validation Accuracy: 0.7181054239877769\n",
      "940 1309\n",
      "Epoch 50/50, Loss: 0.6931472420692444, Validation Accuracy: 0.7181054239877769\n"
     ]
    }
   ],
   "source": [
    "import torch\n",
    "import torch.nn as nn\n",
    "import torch_geometric\n",
    "from torch_geometric.data import DataLoader\n",
    "\n",
    "# Assuming you have 'dataset' and 'val_data' DataLoader objects defined\n",
    "\n",
    "# Define a simple Graph Neural Network (GNN) model\n",
    "class GNNModel(nn.Module):\n",
    "    def __init__(self):\n",
    "        super(GNNModel, self).__init__()\n",
    "        self.conv1 = torch_geometric.nn.GCNConv(15, 8)\n",
    "        self.conv2 = torch_geometric.nn.GCNConv(8, 3)\n",
    "        self.conv3 = torch_geometric.nn.GCNConv(3, 1)\n",
    "        self.fc = nn.Linear(3, 1) \n",
    "\n",
    "    def forward(self, batch_data):\n",
    "        x, edge_index = batch_data.x, batch_data.edge_index\n",
    "        x = self.conv1(x, edge_index)\n",
    "        x = torch.relu(x)\n",
    "        x = self.conv2(x, edge_index)\n",
    "        x = torch.relu(x)\n",
    "        # x = self.conv3(x, edge_index)\n",
    "        x = self.fc(x)\n",
    "        x = torch.sigmoid(x)\n",
    "        return x\n",
    "\n",
    "model = GNNModel()\n",
    "criterion = torch.nn.BCEWithLogitsLoss()\n",
    "optimizer = torch.optim.Adam(model.parameters(), lr=0.001)\n",
    "\n",
    "# Training loop\n",
    "\n",
    "num_epochs = 50\n",
    "for epoch in range(num_epochs):\n",
    "    model.train()\n",
    "    for batch in dataset:\n",
    "        target = batch.y\n",
    "        optimizer.zero_grad()\n",
    "        output = model(batch)\n",
    "\n",
    "        predictions = torch.round(torch.sigmoid(output))\n",
    "    \n",
    "        loss = criterion(predictions.squeeze(), target.float())\n",
    "        loss.backward()\n",
    "        optimizer.step()\n",
    "\n",
    "    # Validation loop\n",
    "    model.eval()\n",
    "    correct = 0\n",
    "    total = 0\n",
    "\n",
    "    with torch.no_grad():\n",
    "        for val_batch in val_data:\n",
    "            val_output = model(val_batch)\n",
    "            val_predictions = torch.round(torch.sigmoid(val_output))\n",
    "            labels = val_batch.y.view(-1, 1)\n",
    "            tensor =(val_predictions == labels)\n",
    "            # count_true = tensor.sum().item()\n",
    "            \n",
    "            correct += (val_predictions == labels).sum().item() #count how many correct predictions are there\n",
    "            total += labels.size(0)\n",
    "\n",
    "    print(correct,total)\n",
    "    val_accuracy = correct / total\n",
    "    print(f'Epoch {epoch + 1}/{num_epochs}, Loss: {loss.item()}, Validation Accuracy: {val_accuracy}')\n"
   ]
  },
  {
   "cell_type": "markdown",
   "metadata": {},
   "source": [
    "### <b> Testing and Accuracy measurements <b>"
   ]
  },
  {
   "cell_type": "code",
   "execution_count": 260,
   "metadata": {},
   "outputs": [
    {
     "name": "stdout",
     "output_type": "stream",
     "text": [
      "0 6 0 1\n",
      "6 7\n",
      "Accuracy: 0.8571\n",
      "Precision: 0.0000\n",
      "Recall: 0.0000\n"
     ]
    }
   ],
   "source": [
    "correct = 0\n",
    "total = 0\n",
    "tp = 0  # True Positive\n",
    "tn = 0  # True Negative\n",
    "fp = 0  # False Positive\n",
    "fn = 0  # False Negative\n",
    "\n",
    "with torch.no_grad():\n",
    "    for val_batch_batch in test_dataset:\n",
    "        val_output = model(val_batch)\n",
    "        val_predictions = torch.round(torch.sigmoid(val_output))\n",
    "        labels = val_batch.y.view(-1, 1)\n",
    "        tensor =(val_predictions == labels)\n",
    "        # count_true = tensor.sum().item()\n",
    "        # Count true positive, true negative, false positive, and false negative\n",
    "        # print((val_predictions == 1) & (labels == 1))\n",
    "        tp += ((val_predictions == True) & (labels == True)).sum().item()\n",
    "        \n",
    "        tn += ((val_predictions == False) & (labels == False)).sum().item()\n",
    "        fp += ((val_predictions == True) & (labels == False)).sum().item()\n",
    "        fn += ((val_predictions == False) & (labels == True)).sum().item()\n",
    "        \n",
    "        correct += (val_predictions == labels).sum().item() #count how many correct predictions are there\n",
    "        total += labels.size(0)\n",
    "        break\n",
    "\n",
    "# Calculate precision, recall, and accuracy\n",
    "print(tp,tn,fp,fn)\n",
    "precision = tp / (tp + fp) if (tp + fp) > 0 else 0\n",
    "recall = tp / (tp + fn) if (tp + fn) > 0 else 0\n",
    "print(correct,total)\n",
    "accuracy = correct / total\n",
    "\n",
    "\n",
    "print(f\"Accuracy: {accuracy:.4f}\")\n",
    "print(f\"Precision: {precision:.4f}\")\n",
    "print(f\"Recall: {recall:.4f}\")"
   ]
  },
  {
   "cell_type": "code",
   "execution_count": 261,
   "metadata": {},
   "outputs": [],
   "source": [
    "# Model gets overfitted to the class 0 since it is dominating in all the graphs\n",
    "# need to select the developers who has diversed connections "
   ]
  }
 ],
 "metadata": {
  "kernelspec": {
   "display_name": "graph_venv",
   "language": "python",
   "name": "python3"
  },
  "language_info": {
   "codemirror_mode": {
    "name": "ipython",
    "version": 3
   },
   "file_extension": ".py",
   "mimetype": "text/x-python",
   "name": "python",
   "nbconvert_exporter": "python",
   "pygments_lexer": "ipython3",
   "version": "3.10.11"
  }
 },
 "nbformat": 4,
 "nbformat_minor": 2
}
