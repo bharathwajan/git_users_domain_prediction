{
 "cells": [
  {
   "cell_type": "code",
   "execution_count": 2,
   "metadata": {},
   "outputs": [],
   "source": [
    "import torch\n",
    "import torch_geometric\n",
    "import torch.nn as nn\n",
    "import torch.nn.functional as F\n",
    "from torch_geometric.data import Data\n",
    "\n",
    "# Define a simple graph with 5 nodes and their features\n",
    "x = torch.tensor([[0.2], [0.5], [0.8], [0.6], [0.3]], dtype=torch.float)\n",
    "\n",
    "# Define the edges in the graph (as an adjacency list)\n",
    "edge_index = torch.tensor([[0, 1, 0, 2, 1, 2, 2, 3, 3, 4],\n",
    "                           [1, 0, 2, 0, 2, 1, 3, 2, 4, 3]], dtype=torch.long)\n",
    "\n",
    "# The edge_index tensor you've provided is a representation of the edges in a graph using a PyTorch tensor. \n",
    "# This particular edge_index is a 2D tensor with two rows and ten columns, and it defines the relationships \n",
    "# between nodes in the graph. Each column in this tensor represents an edge, with the two rows specifying the \n",
    "# source and target nodes of that edge.\n",
    "y = torch.tensor([0, 1, 0, 1, 1], dtype=torch.long)"
   ]
  },
  {
   "cell_type": "code",
   "execution_count": 3,
   "metadata": {},
   "outputs": [],
   "source": [
    "# Create a PyTorch Geometric Data object\n",
    "data = Data(x=x, edge_index=edge_index, y=y)"
   ]
  },
  {
   "cell_type": "code",
   "execution_count": 44,
   "metadata": {},
   "outputs": [
    {
     "data": {
      "text/plain": [
       "(tensor([[0.2000],\n",
       "         [0.5000],\n",
       "         [0.8000],\n",
       "         [0.6000],\n",
       "         [0.3000]]),\n",
       " tensor([0, 1, 0, 1, 1]),\n",
       " torch.Size([5, 1]))"
      ]
     },
     "execution_count": 44,
     "metadata": {},
     "output_type": "execute_result"
    }
   ],
   "source": [
    "data.x,data.y,data.x.shape"
   ]
  },
  {
   "cell_type": "code",
   "execution_count": 40,
   "metadata": {},
   "outputs": [],
   "source": [
    "# Define a simple Graph Neural Network (GNN) model\n",
    "class GNNModel(nn.Module):\n",
    "    def __init__(self):\n",
    "        super(GNNModel, self).__init__()\n",
    "        self.conv1 = torch_geometric.nn.GCNConv(1,10) #equivalent to creating input features with 1D and output features 5D  # https://www.youtube.com/watch?v=2KRAOZIULzw # answers the question how a 1D vector becomes a 5D and 5D becomes 2D\n",
    "        self.conv2 = torch_geometric.nn.GCNConv(10,3)\n",
    "        self.conv3 = torch_geometric.nn.GCNConv(3,1)\n",
    "\n",
    "    def forward(self, data):\n",
    "        x, edge_index = data.x, data.edge_index\n",
    "        x = self.conv1(x, edge_index)\n",
    "        x = torch.relu(x)\n",
    "        x = self.conv2(x, edge_index)\n",
    "        x = torch.relu(x)\n",
    "        x = self.conv3(x, edge_index)\n",
    "        x = torch.sigmoid(x)\n",
    "        return x\n",
    "\n",
    "# Instantiate the GNN model\n",
    "model = GNNModel()\n",
    "\n",
    "# Define loss and optimizer\n",
    "# criterion = torch.nn.CrossEntropyLoss()\n",
    "criterion=torch.nn.BCEWithLogitsLoss()\n",
    "optimizer = torch.optim.Adam(model.parameters(), lr=0.01)\n",
    "\n",
    "# Training loop\n",
    "for epoch in range(100):\n",
    "    optimizer.zero_grad()\n",
    "    out = model(data)\n",
    "    # loss = criterion(out, data.y)\n",
    "    target = data.y.view(-1, 1).float()\n",
    "    loss = criterion(out, target)\n",
    "    loss.backward()\n",
    "    optimizer.step()\n",
    "\n",
    "# Make predictions\n",
    "predictions = model(data)"
   ]
  },
  {
   "cell_type": "code",
   "execution_count": 58,
   "metadata": {},
   "outputs": [
    {
     "name": "stdout",
     "output_type": "stream",
     "text": [
      "tensor([[0.3614],\n",
      "        [0.3614],\n",
      "        [0.3115],\n",
      "        [0.3451],\n",
      "        [0.4012]])\n",
      "Predicted Probabilities: tensor([[0.5894],\n",
      "        [0.5894],\n",
      "        [0.5773],\n",
      "        [0.5854],\n",
      "        [0.5990]])\n",
      "Predicted Labels: tensor([[1.],\n",
      "        [1.],\n",
      "        [1.],\n",
      "        [1.],\n",
      "        [1.]])\n"
     ]
    }
   ],
   "source": [
    "with torch.no_grad():\n",
    "    model.eval()  # Set the model to evaluation mode\n",
    "    predictions = model(data)\n",
    "    print(predictions)\n",
    "# Apply sigmoid activation to get probabilities\n",
    "predicted_probs = torch.sigmoid(predictions)\n",
    "\n",
    "# Convert probabilities to binary predictions (0 or 1)\n",
    "predicted_labels = (predicted_probs > 0.5).float()\n",
    "\n",
    "print(\"Predicted Probabilities:\", predicted_probs)\n",
    "print(\"Predicted Labels:\", predicted_labels)"
   ]
  },
  {
   "cell_type": "markdown",
   "metadata": {},
   "source": [
    "# Prediction"
   ]
  },
  {
   "cell_type": "code",
   "execution_count": 56,
   "metadata": {},
   "outputs": [
    {
     "data": {
      "text/plain": [
       "tensor([[0.3614],\n",
       "        [0.3614],\n",
       "        [0.3115],\n",
       "        [0.3451],\n",
       "        [0.4012]], grad_fn=<SigmoidBackward0>)"
      ]
     },
     "execution_count": 56,
     "metadata": {},
     "output_type": "execute_result"
    }
   ],
   "source": [
    "predictions = model(data)\n",
    "predictions"
   ]
  },
  {
   "cell_type": "code",
   "execution_count": 60,
   "metadata": {},
   "outputs": [],
   "source": [
    "from torch_geometric.data import Data, Batch\n",
    "x1 = torch.tensor([[0.2], [0.5], [0.8]], dtype=torch.float)\n",
    "edge_index1 = torch.tensor([[0, 1, 1, 2], [1, 0, 2, 1]], dtype=torch.long)\n",
    "y1 = torch.tensor([0, 1, 0], dtype=torch.long)\n",
    "\n",
    "x2 = torch.tensor([[0.6], [0.3], [0.9]], dtype=torch.float)\n",
    "edge_index2 = torch.tensor([[0, 1, 2], [1, 0, 1]], dtype=torch.long)\n",
    "y2 = torch.tensor([1, 0, 1], dtype=torch.long)\n",
    "\n",
    "# Create Data objects for each graph\n",
    "data1 = Data(x=x1, edge_index=edge_index1, y=y1)\n",
    "data2 = Data(x=x2, edge_index=edge_index2, y=y2)\n",
    "\n",
    "# Batch the graphs together\n",
    "batch = Batch.from_data_list([data1, data2])"
   ]
  },
  {
   "cell_type": "code",
   "execution_count": 61,
   "metadata": {},
   "outputs": [
    {
     "data": {
      "text/plain": [
       "DataBatch(x=[6, 1], edge_index=[2, 7], y=[6], batch=[6], ptr=[3])"
      ]
     },
     "execution_count": 61,
     "metadata": {},
     "output_type": "execute_result"
    }
   ],
   "source": [
    "batch"
   ]
  },
  {
   "cell_type": "code",
   "execution_count": null,
   "metadata": {},
   "outputs": [],
   "source": []
  }
 ],
 "metadata": {
  "kernelspec": {
   "display_name": "gnn_venv",
   "language": "python",
   "name": "python3"
  },
  "language_info": {
   "codemirror_mode": {
    "name": "ipython",
    "version": 3
   },
   "file_extension": ".py",
   "mimetype": "text/x-python",
   "name": "python",
   "nbconvert_exporter": "python",
   "pygments_lexer": "ipython3",
   "version": "3.10.11"
  }
 },
 "nbformat": 4,
 "nbformat_minor": 2
}
