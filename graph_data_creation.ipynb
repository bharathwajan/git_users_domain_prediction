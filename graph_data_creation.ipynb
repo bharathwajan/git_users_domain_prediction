{
 "cells": [
  {
   "cell_type": "markdown",
   "metadata": {},
   "source": [
    "## <b style=\"color:Green;\">Graph Creation</b>\n",
    "used to create a graph data structure for the selected nodes"
   ]
  },
  {
   "cell_type": "markdown",
   "metadata": {},
   "source": [
    "### <b> Importing Libraries </b>"
   ]
  },
  {
   "cell_type": "code",
   "execution_count": 806,
   "metadata": {},
   "outputs": [],
   "source": [
    "%reset"
   ]
  },
  {
   "cell_type": "code",
   "execution_count": 807,
   "metadata": {},
   "outputs": [],
   "source": [
    "import pickle\n",
    "import pandas as pd\n",
    "import torch\n",
    "import networkx as nx\n",
    "import torch\n",
    "from torch_geometric.data import Data, DataLoader"
   ]
  },
  {
   "cell_type": "markdown",
   "metadata": {},
   "source": [
    "### <b> Importing data and preprocessing </b>"
   ]
  },
  {
   "cell_type": "code",
   "execution_count": 808,
   "metadata": {},
   "outputs": [],
   "source": [
    "user_data=pd.read_csv(\"data/musae_git_target.csv\")\n",
    "selected_nodes=pickle.load(open(\"data/selected_nodes.pkl\",\"rb\"))\n",
    "edge_data=pd.read_csv(\"data/musae_git_edges.csv\")"
   ]
  },
  {
   "cell_type": "code",
   "execution_count": 809,
   "metadata": {},
   "outputs": [],
   "source": [
    "selected_nodes.drop([\"index\"],axis=1,inplace=True)\n",
    "selected_nodes[\"id\"]=selected_nodes[\"id\"].astype(\"int\")\n",
    "selected_nodes[\"ml_target\"]=selected_nodes[\"id\"].apply(lambda idx : user_data.iloc[idx][\"ml_target\"])"
   ]
  },
  {
   "cell_type": "code",
   "execution_count": 810,
   "metadata": {},
   "outputs": [
    {
     "data": {
      "text/html": [
       "<div>\n",
       "<style scoped>\n",
       "    .dataframe tbody tr th:only-of-type {\n",
       "        vertical-align: middle;\n",
       "    }\n",
       "\n",
       "    .dataframe tbody tr th {\n",
       "        vertical-align: top;\n",
       "    }\n",
       "\n",
       "    .dataframe thead th {\n",
       "        text-align: right;\n",
       "    }\n",
       "</style>\n",
       "<table border=\"1\" class=\"dataframe\">\n",
       "  <thead>\n",
       "    <tr style=\"text-align: right;\">\n",
       "      <th></th>\n",
       "      <th>0</th>\n",
       "      <th>1</th>\n",
       "      <th>2</th>\n",
       "      <th>3</th>\n",
       "      <th>4</th>\n",
       "      <th>5</th>\n",
       "      <th>6</th>\n",
       "      <th>7</th>\n",
       "      <th>8</th>\n",
       "      <th>9</th>\n",
       "      <th>10</th>\n",
       "      <th>11</th>\n",
       "      <th>12</th>\n",
       "      <th>13</th>\n",
       "      <th>14</th>\n",
       "      <th>id</th>\n",
       "      <th>ml_target</th>\n",
       "    </tr>\n",
       "  </thead>\n",
       "  <tbody>\n",
       "    <tr>\n",
       "      <th>29159</th>\n",
       "      <td>2589</td>\n",
       "      <td>1515</td>\n",
       "      <td>3214</td>\n",
       "      <td>1953</td>\n",
       "      <td>3129</td>\n",
       "      <td>3077</td>\n",
       "      <td>364</td>\n",
       "      <td>1171</td>\n",
       "      <td>1022</td>\n",
       "      <td>2045</td>\n",
       "      <td>536</td>\n",
       "      <td>1563</td>\n",
       "      <td>2449</td>\n",
       "      <td>1532</td>\n",
       "      <td>3771</td>\n",
       "      <td>33262</td>\n",
       "      <td>0</td>\n",
       "    </tr>\n",
       "  </tbody>\n",
       "</table>\n",
       "</div>"
      ],
      "text/plain": [
       "          0     1     2     3     4     5    6     7     8     9   10    11  \\\n",
       "29159  2589  1515  3214  1953  3129  3077  364  1171  1022  2045  536  1563   \n",
       "\n",
       "         12    13    14     id  ml_target  \n",
       "29159  2449  1532  3771  33262          0  "
      ]
     },
     "execution_count": 810,
     "metadata": {},
     "output_type": "execute_result"
    }
   ],
   "source": [
    "selected_nodes.loc[selected_nodes[\"id\"]==33262]"
   ]
  },
  {
   "cell_type": "markdown",
   "metadata": {},
   "source": [
    "### <b> Graph Gen Logic 1 </b>\n",
    "* lets take 1000 developers , that is 1000 graphs with 10 nodes \n",
    "* logic : Get the first level of connection for a node if not suffient no. of nodes acquired then go for the second level\n",
    "* then we'll train the network based on it\n",
    "\n",
    "<b> Update Needed : select only the nodes which is from the selected_nodes ,i.e nodes which with >= 15 features </b> <br>\n",
    "    update done in next cell"
   ]
  },
  {
   "cell_type": "code",
   "execution_count": null,
   "metadata": {},
   "outputs": [],
   "source": [
    "edge_index=[[],[]]\n",
    "nodes_parsed=[]\n",
    "def generate_graph(dev_id,nodes_needed):\n",
    "    neighbour_dev_ids=edge_data.loc[edge_data[\"id_1\"]==dev_id][\"id_2\"].values\n",
    "    for neighbour_dev in neighbour_dev_ids:\n",
    "        if len(set([item for sublist in edge_index for item in sublist]))>=10:\n",
    "            break\n",
    "        else:\n",
    "            edge_index[0].append(dev_id),edge_index[1].append(neighbour_dev)\n",
    "    nodes_parsed.append(dev_id)\n",
    "    nodes=set([item for sublist in edge_index for item in sublist])\n",
    "    if len(nodes)>=nodes_needed:\n",
    "        return edge_index\n",
    "    else:\n",
    "        dev_id = list(set(nodes) - set(nodes_parsed))[0]\n",
    "        nodes_needed-=len(neighbour_dev_ids)+1 #why plus 1 because of the current node \n",
    "        return generate_graph(dev_id,nodes_needed)\n",
    "\n",
    "dev_id=int(input(\"Enter Dev Id : \"))\n",
    "\n",
    "\n",
    "result=generate_graph(dev_id,10)\n",
    "print(result)\n",
    "nodes=set([item for sublist in result for item in sublist])\n",
    "print(len(nodes))\n",
    "\n",
    "\n",
    "\n",
    "### Visualization\n",
    "\n",
    "dev_name=user_data.loc[user_data[\"id\"]==dev_id][\"name\"].values[0]\n",
    "print(\"Developer's Name :\",dev_name)\n",
    "Graph=nx.Graph()\n",
    "for source,dest in zip(result[0],result[1]):\n",
    "    src_name,dest_name=user_data.loc[user_data[\"id\"]==source][\"name\"].values[0],user_data.loc[user_data[\"id\"]==dest][\"name\"].values[0]\n",
    "    src_domain,dest_domain=user_data.loc[user_data[\"id\"]==source][\"ml_target\"].values[0],user_data.loc[user_data[\"id\"]==dest][\"ml_target\"].values[0]\n",
    "    if src_domain==1:\n",
    "        src_domain=\"ML_dev\"\n",
    "    else:\n",
    "        src_domain=\"web_dev\"\n",
    "    if dest_domain==1:\n",
    "        dest_domain=\"ML_dev\"\n",
    "    else:\n",
    "        dest_domain=\"web_dev\"\n",
    "    src,dest=src_name+\"_\"+src_domain,dest_name+\"_\"+dest_domain\n",
    "    Graph.add_edge(src,dest)\n",
    "nx.draw(Graph,with_labels=True)"
   ]
  },
  {
   "cell_type": "markdown",
   "metadata": {},
   "source": [
    "### <b> Graph Gen Logic 1 Bug fixed </b>\n",
    "* selecting only the nodes which has a feature size of more than 15 --> bug in the previous \n",
    "* previously we had considering the friendship between two devs only if there is a connection from id1 to id2 \n",
    "* but from the document it is clear that it is not directed from id1 to id2  the vice verse is also considered as a valid connection and the following code adopts to that change"
   ]
  },
  {
   "cell_type": "code",
   "execution_count": 811,
   "metadata": {},
   "outputs": [
    {
     "data": {
      "text/plain": [
       "'\\nThe below code is used to visualize graph generated by the above code if you wanna use the below visualization kindly uncomment the above two lines also\\n'"
      ]
     },
     "execution_count": 811,
     "metadata": {},
     "output_type": "execute_result"
    }
   ],
   "source": [
    "selected_nodes_ids=list(selected_nodes[\"id\"])\n",
    "\n",
    "# edge_index_mapping=[[],[]]\n",
    "# nodes_parsed=[] \n",
    "\n",
    "# the above two lines (edge_index_mapping and nodes_parsed) needs to be enabled if you are running this cell alone or else we may face a data repeatation error while generating graphs due to the line 12\n",
    "\"\"\"\n",
    "why so ?\n",
    "for first time of the iteration in generating multiple graphs for different users (below call) the edge_index_mapping will\n",
    "get some values for the first iteration and then that will get repeated again and again beacause of the line 14 in this cell \n",
    "\"\"\"\n",
    "\n",
    "\n",
    "def generate_graph(dev_id,nodes_needed):\n",
    "    neighbour_dev_ids=list(edge_data.loc[edge_data[\"id_1\"]==dev_id][\"id_2\"].values)+list(edge_data.loc[edge_data[\"id_2\"]==dev_id][\"id_1\"].values)\n",
    "    neighbour_dev_ids=list(set(neighbour_dev_ids))\n",
    "    still_needed=0\n",
    "    for neighbour_dev in neighbour_dev_ids:\n",
    "        if len(set([item for sublist in edge_index_mapping for item in sublist]))>=10:\n",
    "            break\n",
    "        else:\n",
    "            if dev_id in selected_nodes_ids and neighbour_dev in selected_nodes_ids:\n",
    "                edge_index_mapping[0].append(dev_id),edge_index_mapping[1].append(neighbour_dev)\n",
    "                still_needed+=1\n",
    "            else:\n",
    "                pass\n",
    "                \n",
    "    nodes_parsed.append(dev_id)\n",
    "    nodes=set([item for sublist in edge_index_mapping for item in sublist])\n",
    "    if len(nodes)>=nodes_needed:\n",
    "        return edge_index_mapping\n",
    "    else:\n",
    "        dev_id = list(set(nodes) - set(nodes_parsed))[0]\n",
    "        nodes_needed-=still_needed+1 #why plus 1 because of the current node \n",
    "        return generate_graph(dev_id,nodes_needed)\n",
    "\n",
    "\n",
    "\n",
    "\"\"\"\n",
    "The below code is used to visualize graph generated by the above code if you wanna use the below visualization kindly uncomment the above two lines also\n",
    "\"\"\"\n",
    "# dev_id=int(input(\"Enter Dev Id : \"))\n",
    "\n",
    "\n",
    "# result=generate_graph(dev_id,10)\n",
    "# print(result)\n",
    "# nodes=set([item for sublist in result for item in sublist])\n",
    "# print(len(nodes))\n",
    "\n",
    "\n",
    "\n",
    "# ### Visualization\n",
    "\n",
    "# dev_name=user_data.loc[user_data[\"id\"]==dev_id][\"name\"].values[0]\n",
    "# print(\"Developer's Name :\",dev_name)\n",
    "# Graph=nx.Graph()\n",
    "# for source,dest in zip(result[0],result[1]):\n",
    "#     src_name,dest_name=user_data.loc[user_data[\"id\"]==source][\"name\"].values[0],user_data.loc[user_data[\"id\"]==dest][\"name\"].values[0]\n",
    "#     src_domain,dest_domain=user_data.loc[user_data[\"id\"]==source][\"ml_target\"].values[0],user_data.loc[user_data[\"id\"]==dest][\"ml_target\"].values[0]\n",
    "#     if src_domain==1:\n",
    "#         src_domain=\"ML_dev\"\n",
    "#     else:\n",
    "#         src_domain=\"web_dev\"\n",
    "#     if dest_domain==1:\n",
    "#         dest_domain=\"ML_dev\"\n",
    "#     else:\n",
    "#         dest_domain=\"web_dev\"\n",
    "#     src,dest=src_name+\"_\"+src_domain,dest_name+\"_\"+dest_domain\n",
    "#     Graph.add_edge(src,dest)\n",
    "# nx.draw(Graph,with_labels=True)\n"
   ]
  },
  {
   "cell_type": "markdown",
   "metadata": {},
   "source": [
    "### <b> Making a dataset </b>\n",
    "* lets take 700 ML devs and 700 web devs and make a graph structures for them <br>"
   ]
  },
  {
   "cell_type": "code",
   "execution_count": 812,
   "metadata": {},
   "outputs": [],
   "source": [
    "web_samples = selected_nodes[selected_nodes['ml_target'] == 0].sample(700, random_state=42)\n",
    "ml_samples = selected_nodes[selected_nodes['ml_target'] == 1].sample(700, random_state=42)\n",
    "train_samples=pd.concat([web_samples,ml_samples],axis=0)"
   ]
  },
  {
   "cell_type": "code",
   "execution_count": 827,
   "metadata": {},
   "outputs": [
    {
     "name": "stdout",
     "output_type": "stream",
     "text": [
      "Not enough eligibile neighbours* to create a graph\n",
      "Not enough eligibile neighbours* to create a graph\n",
      "Not enough eligibile neighbours* to create a graph\n",
      "Not enough eligibile neighbours* to create a graph\n",
      "Not enough eligibile neighbours* to create a graph\n",
      "Not enough eligibile neighbours* to create a graph\n",
      "Not enough eligibile neighbours* to create a graph\n",
      "Not enough eligibile neighbours* to create a graph\n",
      "Not enough eligibile neighbours* to create a graph\n",
      "Not enough eligibile neighbours* to create a graph\n",
      "Not enough eligibile neighbours* to create a graph\n",
      "Not enough eligibile neighbours* to create a graph\n",
      "Not enough eligibile neighbours* to create a graph\n",
      "Not enough eligibile neighbours* to create a graph\n",
      "Not enough eligibile neighbours* to create a graph\n",
      "Not enough eligibile neighbours* to create a graph\n",
      "Not enough eligibile neighbours* to create a graph\n",
      "Not enough eligibile neighbours* to create a graph\n",
      "Not enough eligibile neighbours* to create a graph\n",
      "Not enough eligibile neighbours* to create a graph\n",
      "Not enough eligibile neighbours* to create a graph\n",
      "Not enough eligibile neighbours* to create a graph\n",
      "Not enough eligibile neighbours* to create a graph\n",
      "Not enough eligibile neighbours* to create a graph\n",
      "Not enough eligibile neighbours* to create a graph\n",
      "Not enough eligibile neighbours* to create a graph\n",
      "Not enough eligibile neighbours* to create a graph\n",
      "Not enough eligibile neighbours* to create a graph\n",
      "Not enough eligibile neighbours* to create a graph\n",
      "Not enough eligibile neighbours* to create a graph\n",
      "Not enough eligibile neighbours* to create a graph\n",
      "Not enough eligibile neighbours* to create a graph\n",
      "Not enough eligibile neighbours* to create a graph\n",
      "Not enough eligibile neighbours* to create a graph\n",
      "Not enough eligibile neighbours* to create a graph\n",
      "Not enough eligibile neighbours* to create a graph\n",
      "Not enough eligibile neighbours* to create a graph\n",
      "Not enough eligibile neighbours* to create a graph\n",
      "Not enough eligibile neighbours* to create a graph\n",
      "Not enough eligibile neighbours* to create a graph\n",
      "Not enough eligibile neighbours* to create a graph\n",
      "Not enough eligibile neighbours* to create a graph\n",
      "Not enough eligibile neighbours* to create a graph\n",
      "Not enough eligibile neighbours* to create a graph\n",
      "Not enough eligibile neighbours* to create a graph\n",
      "Not enough eligibile neighbours* to create a graph\n",
      "Not enough eligibile neighbours* to create a graph\n",
      "Not enough eligibile neighbours* to create a graph\n",
      "Not enough eligibile neighbours* to create a graph\n",
      "Not enough eligibile neighbours* to create a graph\n",
      "Not enough eligibile neighbours* to create a graph\n",
      "Not enough eligibile neighbours* to create a graph\n",
      "Not enough eligibile neighbours* to create a graph\n",
      "Not enough eligibile neighbours* to create a graph\n"
     ]
    }
   ],
   "source": [
    "graph_datasets = []\n",
    "row_counter = 0\n",
    "dev_classes=[]  # this is used to know upto what index the web_dev's graph is being generated --> so that we can make a good split while training\n",
    "for sample in train_samples.iterrows():\n",
    "    \n",
    "    edge_index_mapping=[[],[]]\n",
    "    nodes_parsed=[]\n",
    "    dev_id=sample[1][\"id\"]\n",
    "    try:\n",
    "        # print(\"$$$ Dev ID $$$\",dev_id)\n",
    "        edge_idx=generate_graph(dev_id,10)\n",
    "        # print(\"$$$ Edge Index $$$\",edge_idx)\n",
    "    except IndexError:\n",
    "        print('Not enough eligibile neighbours* to create a graph') # eligible neighbours --> neighbours with 15 features\n",
    "        continue\n",
    "    \n",
    "    dev_class = dev_classes.append(sample[1][\"ml_target\"])\n",
    "    \n",
    "    nodes=set([ele for sublist in edge_idx for ele in sublist])\n",
    "    mappings=dict(enumerate(nodes))\n",
    "    # print(\"$$$ Mappings $$$\",mappings)\n",
    "    # # #replace edge_idx with mapped number and put values data.x according\n",
    "    data_x=[] #user to store the vector of each node the end shape of this will no. of nodes * vector length\n",
    "    labels=[] #used to store the label for each node\n",
    "    # print(\"$$$ Mappings $$$\",mappings)\n",
    "    for map,idx in mappings.items():\n",
    "        label=user_data.loc[user_data[\"id\"]==idx][\"ml_target\"].values[0]\n",
    "        labels.append(label)\n",
    "        \n",
    "        data_x.append(list(selected_nodes.loc[selected_nodes[\"id\"]==idx][list(range(15))].values[0]))\n",
    "    \n",
    "    mapping_inverse={value:key for key,value in mappings.items()}\n",
    "    # print(\"$$$ Mappings Inverse $$$\",mapping_inverse)\n",
    "\n",
    "    edge_idx_tensor=[list(range(len(edge_idx[0]))),list(range(len(edge_idx[1])))]\n",
    "    for i in range(len(edge_idx)):\n",
    "        for j in range(len(edge_idx[i])):\n",
    "            edge_idx_tensor[i][j]=mapping_inverse[edge_idx[i][j]]\n",
    "    # print(\"$$$ Data_x $$$\",data_x)\n",
    "    # print(\"$$$ Edge_idx_tensor $$$\",edge_idx_tensor)\n",
    "    \n",
    "    graph = Data(x=torch.Tensor(data_x), edge_index=torch.tensor(edge_idx_tensor).long(), y=torch.tensor(labels))\n",
    "    # print(graph)\n",
    "    graph_datasets.append(graph)\n",
    "    # break\n"
   ]
  },
  {
   "cell_type": "code",
   "execution_count": 831,
   "metadata": {},
   "outputs": [
    {
     "name": "stdout",
     "output_type": "stream",
     "text": [
      "1346       0\n",
      "0     0\n",
      "1     0\n",
      "2     0\n",
      "3     0\n",
      "4     0\n",
      "...  ..\n",
      "1341  1\n",
      "1342  1\n",
      "1343  1\n",
      "1344  1\n",
      "1345  1\n",
      "\n",
      "[1346 rows x 1 columns]\n"
     ]
    }
   ],
   "source": [
    "# idx=13\n",
    "# graph_datasets[idx].edge_index,graph_datasets[idx].y\n",
    "print(len(graph_datasets),dev_classes)\n",
    "dev_classes=pd.DataFrame(dev_classes)"
   ]
  },
  {
   "cell_type": "code",
   "execution_count": 832,
   "metadata": {},
   "outputs": [
    {
     "data": {
      "text/plain": [
       "1346"
      ]
     },
     "execution_count": 832,
     "metadata": {},
     "output_type": "execute_result"
    }
   ],
   "source": [
    "len(graph_datasets)"
   ]
  },
  {
   "cell_type": "code",
   "execution_count": 833,
   "metadata": {},
   "outputs": [
    {
     "data": {
      "text/html": [
       "<div>\n",
       "<style scoped>\n",
       "    .dataframe tbody tr th:only-of-type {\n",
       "        vertical-align: middle;\n",
       "    }\n",
       "\n",
       "    .dataframe tbody tr th {\n",
       "        vertical-align: top;\n",
       "    }\n",
       "\n",
       "    .dataframe thead th {\n",
       "        text-align: right;\n",
       "    }\n",
       "</style>\n",
       "<table border=\"1\" class=\"dataframe\">\n",
       "  <thead>\n",
       "    <tr style=\"text-align: right;\">\n",
       "      <th></th>\n",
       "      <th>0</th>\n",
       "    </tr>\n",
       "  </thead>\n",
       "  <tbody>\n",
       "    <tr>\n",
       "      <th>0</th>\n",
       "      <td>0</td>\n",
       "    </tr>\n",
       "    <tr>\n",
       "      <th>1</th>\n",
       "      <td>0</td>\n",
       "    </tr>\n",
       "    <tr>\n",
       "      <th>2</th>\n",
       "      <td>0</td>\n",
       "    </tr>\n",
       "    <tr>\n",
       "      <th>3</th>\n",
       "      <td>0</td>\n",
       "    </tr>\n",
       "    <tr>\n",
       "      <th>4</th>\n",
       "      <td>0</td>\n",
       "    </tr>\n",
       "    <tr>\n",
       "      <th>...</th>\n",
       "      <td>...</td>\n",
       "    </tr>\n",
       "    <tr>\n",
       "      <th>667</th>\n",
       "      <td>0</td>\n",
       "    </tr>\n",
       "    <tr>\n",
       "      <th>668</th>\n",
       "      <td>0</td>\n",
       "    </tr>\n",
       "    <tr>\n",
       "      <th>669</th>\n",
       "      <td>0</td>\n",
       "    </tr>\n",
       "    <tr>\n",
       "      <th>670</th>\n",
       "      <td>0</td>\n",
       "    </tr>\n",
       "    <tr>\n",
       "      <th>671</th>\n",
       "      <td>0</td>\n",
       "    </tr>\n",
       "  </tbody>\n",
       "</table>\n",
       "<p>672 rows × 1 columns</p>\n",
       "</div>"
      ],
      "text/plain": [
       "     0\n",
       "0    0\n",
       "1    0\n",
       "2    0\n",
       "3    0\n",
       "4    0\n",
       "..  ..\n",
       "667  0\n",
       "668  0\n",
       "669  0\n",
       "670  0\n",
       "671  0\n",
       "\n",
       "[672 rows x 1 columns]"
      ]
     },
     "execution_count": 833,
     "metadata": {},
     "output_type": "execute_result"
    }
   ],
   "source": [
    "dev_classes.loc[dev_classes[0]==0]"
   ]
  },
  {
   "cell_type": "code",
   "execution_count": 825,
   "metadata": {},
   "outputs": [
    {
     "data": {
      "text/html": [
       "<div>\n",
       "<style scoped>\n",
       "    .dataframe tbody tr th:only-of-type {\n",
       "        vertical-align: middle;\n",
       "    }\n",
       "\n",
       "    .dataframe tbody tr th {\n",
       "        vertical-align: top;\n",
       "    }\n",
       "\n",
       "    .dataframe thead th {\n",
       "        text-align: right;\n",
       "    }\n",
       "</style>\n",
       "<table border=\"1\" class=\"dataframe\">\n",
       "  <thead>\n",
       "    <tr style=\"text-align: right;\">\n",
       "      <th></th>\n",
       "      <th>0</th>\n",
       "    </tr>\n",
       "  </thead>\n",
       "  <tbody>\n",
       "    <tr>\n",
       "      <th>32</th>\n",
       "      <td>1</td>\n",
       "    </tr>\n",
       "    <tr>\n",
       "      <th>33</th>\n",
       "      <td>1</td>\n",
       "    </tr>\n",
       "    <tr>\n",
       "      <th>34</th>\n",
       "      <td>1</td>\n",
       "    </tr>\n",
       "    <tr>\n",
       "      <th>35</th>\n",
       "      <td>1</td>\n",
       "    </tr>\n",
       "    <tr>\n",
       "      <th>36</th>\n",
       "      <td>1</td>\n",
       "    </tr>\n",
       "    <tr>\n",
       "      <th>...</th>\n",
       "      <td>...</td>\n",
       "    </tr>\n",
       "    <tr>\n",
       "      <th>89</th>\n",
       "      <td>1</td>\n",
       "    </tr>\n",
       "    <tr>\n",
       "      <th>90</th>\n",
       "      <td>1</td>\n",
       "    </tr>\n",
       "    <tr>\n",
       "      <th>91</th>\n",
       "      <td>1</td>\n",
       "    </tr>\n",
       "    <tr>\n",
       "      <th>92</th>\n",
       "      <td>1</td>\n",
       "    </tr>\n",
       "    <tr>\n",
       "      <th>93</th>\n",
       "      <td>1</td>\n",
       "    </tr>\n",
       "  </tbody>\n",
       "</table>\n",
       "<p>62 rows × 1 columns</p>\n",
       "</div>"
      ],
      "text/plain": [
       "    0\n",
       "32  1\n",
       "33  1\n",
       "34  1\n",
       "35  1\n",
       "36  1\n",
       ".. ..\n",
       "89  1\n",
       "90  1\n",
       "91  1\n",
       "92  1\n",
       "93  1\n",
       "\n",
       "[62 rows x 1 columns]"
      ]
     },
     "execution_count": 825,
     "metadata": {},
     "output_type": "execute_result"
    }
   ],
   "source": [
    "dev_classes.loc[dev_classes[0]==1]"
   ]
  },
  {
   "cell_type": "code",
   "execution_count": 826,
   "metadata": {},
   "outputs": [],
   "source": [
    "pickle.dump(graph_datasets,open(\"data/graphs.pkl\",\"wb\"))"
   ]
  },
  {
   "cell_type": "code",
   "execution_count": null,
   "metadata": {},
   "outputs": [],
   "source": [
    "# loader = DataLoader(graph_datasets, batch_size=10, shuffle=True) # splitting with the batch size of 2"
   ]
  },
  {
   "cell_type": "code",
   "execution_count": null,
   "metadata": {},
   "outputs": [],
   "source": [
    "# # Iterate over batches\n",
    "# for batch in loader:\n",
    "#     print(\"Batch:\")\n",
    "#     print(\"Number of graphs in the batch:\", batch.num_graphs)\n",
    "#     print(\"Node features shape:\", batch.x.shape)\n",
    "#     print(\"Edge indices shape:\", batch.edge_index.shape)\n",
    "#     print(\"Node labels shape:\", batch.y.shape)\n",
    "#     print()\n"
   ]
  }
 ],
 "metadata": {
  "kernelspec": {
   "display_name": "graph_venv",
   "language": "python",
   "name": "python3"
  },
  "language_info": {
   "codemirror_mode": {
    "name": "ipython",
    "version": 3
   },
   "file_extension": ".py",
   "mimetype": "text/x-python",
   "name": "python",
   "nbconvert_exporter": "python",
   "pygments_lexer": "ipython3",
   "version": "3.10.11"
  }
 },
 "nbformat": 4,
 "nbformat_minor": 2
}
